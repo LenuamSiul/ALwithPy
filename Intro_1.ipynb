{
  "nbformat": 4,
  "nbformat_minor": 0,
  "metadata": {
    "colab": {
      "name": "Intro_1.ipynb",
      "provenance": [],
      "collapsed_sections": [],
      "authorship_tag": "ABX9TyP21EuU2+9ez5ML4S2i3kSj",
      "include_colab_link": true
    },
    "kernelspec": {
      "name": "python3",
      "display_name": "Python 3"
    },
    "language_info": {
      "name": "python"
    }
  },
  "cells": [
    {
      "cell_type": "markdown",
      "metadata": {
        "id": "view-in-github",
        "colab_type": "text"
      },
      "source": [
        "<a href=\"https://colab.research.google.com/github/LenuamSiul/ALwithPy/blob/master/Intro_1.ipynb\" target=\"_parent\"><img src=\"https://colab.research.google.com/assets/colab-badge.svg\" alt=\"Open In Colab\"/></a>"
      ]
    },
    {
      "cell_type": "markdown",
      "metadata": {
        "id": "sv2O7w29KX7R"
      },
      "source": [
        "# **Breve Introducción.**\n",
        "\n",
        "\n",
        "---\n",
        "\n",
        "\n",
        "\n",
        "¿Qué idioma utilizar para explicarle a nuestra computadora qué es lo que queremos que haga ahora? Si conociéramos ese idioma, podríamos pedirle al aparato que realizase en nuestro lugar, por ejemplo, tareas repetitivas, pesadas y hasta aburridas. \n",
        "\n",
        "Cualquier estudiante de este curso es capaz de leer estos párrafos y entenderlos en pocos segundos. Sin embargo, contarlas e incluso indicar cuál es la palabra que más se repite es cuento de otra historia. \n",
        "\n",
        "Para una computadora, leer y comprender texto podría serle difícil, pero contar las palabras e indicar cuántas veces se ha repetido cada, son tareas elementales para ella. \n",
        "\n",
        "Los humanos y las computadoras son buenos para diferentes cosas, y este es uno de los motivos por el que necesitamos aprender a hablar el \"idioma de ellas\". \n",
        "\n",
        "Python es un lenguaje de programación y, como todo lenguaje, tiene un vocabulario. A este vocabulario se le conoce más bien como las \"palabras reservadas\". Se trata de palabras que tienen un único significado para Python. "
      ]
    },
    {
      "cell_type": "markdown",
      "metadata": {
        "id": "LXDVynfhS3Gr"
      },
      "source": [
        "# **Ejemplos de palabras reservadas en Python.**\n",
        "\n",
        "\n",
        "---\n",
        "\n",
        "\n",
        "\n",
        "\n",
        "\n",
        "*   and\n",
        "*   as\n",
        "*   break\n",
        "*   class\n",
        "*   continue\n",
        "*   def\n",
        "*   del\n",
        "*   elif\n",
        "*   else\n",
        "*   for\n",
        "*   if\n",
        "*   not\n",
        "*   or\n",
        "*   pass\n",
        "*   return\n",
        "*   yield\n",
        "\n",
        "Es decir, mediante estas palabras y otros elementos claves del lenguaje de Python (las variables, por ejemplo), se podrán ir formando programas (instrucciones u órdenes consisas que indican a la computadora qué tareas debe llevar a cabo).  \n",
        "\n",
        "\n",
        "\n",
        "\n",
        "\n",
        "\n",
        "\n",
        "\n",
        "\n"
      ]
    },
    {
      "cell_type": "markdown",
      "metadata": {
        "id": "ZzUXMyPLZabg"
      },
      "source": [
        "# **Ejemplo de oración sintácticamente correcta en Python.**\n",
        "\n",
        "\n",
        "---\n",
        "\n",
        "\n",
        "\n"
      ]
    },
    {
      "cell_type": "code",
      "metadata": {
        "colab": {
          "base_uri": "https://localhost:8080/"
        },
        "id": "Il0jB2GeZlLA",
        "outputId": "071501f4-4051-4526-cb6c-a8b4a18b865a"
      },
      "source": [
        "print('¡Hola, mundooo!')"
      ],
      "execution_count": null,
      "outputs": [
        {
          "output_type": "stream",
          "name": "stdout",
          "text": [
            "¡Hola, mundooo!\n"
          ]
        }
      ]
    },
    {
      "cell_type": "markdown",
      "metadata": {
        "id": "X46dJgIgarP8"
      },
      "source": [
        "La frase anterior comienza con la **función**  *print*, en cuyo argumento se encuentra la *cadea de texto*  *'¡Hola, mundooo!'*.\n",
        "\n",
        "**Print** es una instrucción que permite a Python mostrar un valor en pantalla. "
      ]
    },
    {
      "cell_type": "code",
      "metadata": {
        "id": "-VWx3fUKcSt6"
      },
      "source": [
        "print('Somo estudiantes de la Facultad de Ciencias.')\n",
        "print(\"Ahora mismo nos encontramos en un curso de Geometría Analítica II.\")\n",
        "print(\"Intentamos apender un lenguaje que nos permita darle indicaciones a la computadora.\")\n",
        "print(\"Y así haga por nosotros las aburridas y pesadas cuentas . . . \")"
      ],
      "execution_count": null,
      "outputs": []
    },
    {
      "cell_type": "markdown",
      "metadata": {
        "id": "sPk5oRgyeRCm"
      },
      "source": [
        "# **Un ejemplo sencillo de un programa que utiliza variables**\n",
        "\n",
        "\n",
        "---\n",
        "\n"
      ]
    },
    {
      "cell_type": "code",
      "metadata": {
        "colab": {
          "base_uri": "https://localhost:8080/"
        },
        "id": "q2o7zttNjCRs",
        "outputId": "917e89f7-0f35-491e-e90f-655bd14b9411"
      },
      "source": [
        "x = 6\n",
        "print(x)\n",
        "y = x * 7\n",
        "print(y)\n",
        "z = y * x\n",
        "print(z)"
      ],
      "execution_count": null,
      "outputs": [
        {
          "output_type": "stream",
          "name": "stdout",
          "text": [
            "6\n",
            "42\n",
            "252\n"
          ]
        }
      ]
    },
    {
      "cell_type": "markdown",
      "metadata": {
        "id": "LvU56IsFjPEE"
      },
      "source": [
        "\n",
        "\n",
        "1.   La primera línea ($ x = 6 $), le dice a Python que debe almacenar el valor numérico $6$ en la variable $x$. Es decir, $x$ es una etiqueta o nombre simbólico que hace referencia al dato numérico $6$. Esto permite que dicho valor numérico sea recuperado para procesos futuros. \n",
        "2.   La segunda línea utiliza la función *print* para confirmar que, efectivamente, la variable $x$ almacenó el valor numérico $6$.\n",
        "3.   En esta línea, Python recupera el valor asignado a la variable $x$ lo multiplica por $7$ y almacena el valor resultante en la variable $y$\n",
        "4.   En esta línea, Python despliega en pantalla el valor actual de $y$.\n",
        "5.   En esta línea, Python hace uso del valor almacenado en la variable $y$, lo multiplica por el valor previo de la variable $x$, y almacena el resultado en una nueva variable $z$. \n",
        "6.   En esta última línea, Python escribe el valor actual de $z$.\n",
        "\n",
        "Se debe hacer hincapié en el hecho de que *Python trata a estas líneas como una secuencia ordenada de instrucciones o sentencias*, por lo cual, las últimas líneas son capaces de obtener datos creados en las primeras líneas. Este es un miniprograma de seis fases, oordenadas de manera lógica y útil. \n",
        "\n",
        "\n"
      ]
    },
    {
      "cell_type": "markdown",
      "metadata": {
        "id": "AUufhFd2tRdo"
      },
      "source": [
        "# **¿Qué es un programa?**\n",
        "\n",
        "\n",
        "---\n",
        "\n",
        "\n",
        "\n",
        "En su forma más básica, un programa es una secuencia de delcaraciones o sentencias que han sido diseñadas para hacer algo (en este curso, la palabra algo significará cálculos). \n",
        "\n",
        "¿Qué mostrará en pantalla el siguiente programa?"
      ]
    },
    {
      "cell_type": "code",
      "metadata": {
        "id": "xuIXTmDyxdk3"
      },
      "source": [
        "x = 43\n",
        "x = x + 1\n",
        "print(x)"
      ],
      "execution_count": null,
      "outputs": []
    },
    {
      "cell_type": "markdown",
      "metadata": {
        "id": "lJc9rraZxomD"
      },
      "source": [
        "\n",
        "1.   $44$\n",
        "\n",
        "2.   Error, ya que $x = x + 1$ no es posible matemáticamente.1.\n",
        "\n",
        "3.   $43$\n",
        "\n",
        "\n",
        " "
      ]
    },
    {
      "cell_type": "markdown",
      "metadata": {
        "id": "pcdK6jYQy-b6"
      },
      "source": [
        "# **Variables, expresiones y sentencias.**\n",
        "\n",
        "\n",
        "---\n",
        "\n",
        "\n",
        "\n",
        "Un *valor* es algo básico que utiliza un programa para funcionar. Python maneja diversos tipos de valores:\n",
        "\n",
        "1.    $2$  es un valor tipo entero (*int)*\n",
        "  \n",
        "2. \n",
        "```\n",
        " \"¡Hola, mundooo!\"\n",
        "```\n",
        "  es  una *cadena* (*string*), que recibe ese nombre porque es una cadena de letras. Las cadenas se identifican porque van encerradas entre comillas. \n",
        "1.   Los números con punto decimal como  $3.5$  son del tipo *float*. Y en el contexto de la programación, el punto decimal se llama punto flotante. Entonces float hace referencia a los valores que son números flotantes. \n",
        "\n",
        "\n",
        "---\n",
        "\n",
        "Una *variable*  es un nombre simbólico que apunta a un valor. Para crear variables, es indispensable utilizar la *sentencia de asignación* de Python, la cual se representa con el signo de igualdad matemática (pero, ciertamente, no significan lo mismo):  $=$. \n",
        "\n",
        "A continuación tres ejemplos."
      ]
    },
    {
      "cell_type": "code",
      "metadata": {
        "id": "ZG0PBBhm5reO"
      },
      "source": [
        "mensaje = \"¿Quién eres tú?\"\n",
        "n = 17\n",
        "pi = 3.1415926535897"
      ],
      "execution_count": null,
      "outputs": []
    },
    {
      "cell_type": "markdown",
      "metadata": {
        "id": "Uf7rvPtY54bY"
      },
      "source": [
        "1. El primer ejemplo asigna una cadena a una variable nueva llamada **mensaje**.\n",
        "2. El segundo ejemplo asigna el entero  $17$  a la variable $n$. \n",
        "3. El tercer ejemplo asigna un valor aproximado de $\\pi$ a la variable **pi**.\n",
        "\n",
        "Para mostrar el valor de la variable $n$ se puede usar la función print."
      ]
    },
    {
      "cell_type": "code",
      "metadata": {
        "id": "_FXcUgQLA_P9"
      },
      "source": [
        "print(n)"
      ],
      "execution_count": null,
      "outputs": []
    },
    {
      "cell_type": "markdown",
      "metadata": {
        "id": "qOZ7hXxgBNw3"
      },
      "source": [
        "Así pues, $n$ se refiere al valor $17$. Y como  $17$  es un valor tipo int, el tipo de $n$ también es int. Y así con las demás variables. Para obtener el tipo de un valor o una variable se utiliza la función **type**."
      ]
    },
    {
      "cell_type": "code",
      "metadata": {
        "id": "ajsLVtcGBkWW"
      },
      "source": [
        "type(mensaje)\n",
        "type(n)\n",
        "type(pi)"
      ],
      "execution_count": null,
      "outputs": []
    },
    {
      "cell_type": "markdown",
      "metadata": {
        "id": "7u51ctsQB2pR"
      },
      "source": [
        "\n",
        "\n",
        "---\n",
        "\n",
        "Es usual que el *nombre de una variable* esté relacionado con el valor que refiere. El nombre de una variable no puede iniciar con un número, puede ser tan largo como se desee y se pueden combinar letras mayúsuclas, minúsculas y guiones bajos. "
      ]
    },
    {
      "cell_type": "code",
      "metadata": {
        "id": "2DaCR9AxPLW4"
      },
      "source": [
        "mi_nombre = \"Luis Grajales\"\n",
        "Mi_Nombre = \"Luis Venegas\"\n",
        "MiNombre = \"Manuel\"\n",
        "minombre = \"Luis\"\n",
        "MINOMBRE = \"MANUEL\""
      ],
      "execution_count": null,
      "outputs": []
    },
    {
      "cell_type": "markdown",
      "metadata": {
        "id": "NwA4EDeSQEIl"
      },
      "source": [
        "Python cuenta con una variedad de palabras clave o nativas, cuyos significados son precisos y dan estructura a los programas:\n",
        "\n",
        "\n",
        "\n",
        "```\n",
        "1. and            10. is\n",
        "2. as             11. in\n",
        "3. del            12. yield\n",
        "4. from           13. True\n",
        "5. global         14. False\n",
        "6. else           15. For\n",
        "7. elif\n",
        "8. if\n",
        "9. import\n",
        "\n",
        "```\n",
        "\n"
      ]
    },
    {
      "cell_type": "markdown",
      "metadata": {
        "id": "e2pw81iCcxsm"
      },
      "source": [
        "\n",
        "\n",
        "---\n",
        "\n",
        "\n",
        "\n",
        "Una *sentencia* es una unidad de código que el intérprete de Python puede ejecutar. Dos ejemplos de sentencias son print y las asignaciones por el símbolo  $ = $.\n",
        "\n",
        "La sentencia print produce una salida en el monitor. La sentencia de asignación no produce ninguna salida."
      ]
    },
    {
      "cell_type": "code",
      "metadata": {
        "id": "ilF8bYyVdX2m"
      },
      "source": [
        "print(23)\n",
        "x = 4\n",
        "print(\"Hola\")"
      ],
      "execution_count": null,
      "outputs": []
    },
    {
      "cell_type": "code",
      "metadata": {
        "id": "aitocG6PeEv-"
      },
      "source": [
        "x = 7\n",
        "y = 2 * x + 5\n",
        "print(y)"
      ],
      "execution_count": null,
      "outputs": []
    },
    {
      "cell_type": "code",
      "metadata": {
        "id": "lxf4nky6foko"
      },
      "source": [
        "cantar1 = \"Hace años que no te veo. \"\n",
        "cantar2 = \"Dime, por favor, cómo estás.\"\n",
        "concat = cantar1 + cantar2\n",
        "print(concat)"
      ],
      "execution_count": null,
      "outputs": []
    },
    {
      "cell_type": "markdown",
      "metadata": {
        "id": "V4rg3aoXgqg3"
      },
      "source": [
        "# **Operadores aritméticos**\n",
        "\n",
        "Los *operadores* son símbolos especiales que representan operaciones aritméticas y algebraicas, como la suma, el producto, la división, etc.\n",
        "Los símbolos usuales para estos operadores son: \n",
        "1.  `+` :    Suma\n",
        "2.  `-` :    Resta\n",
        "3.  `*` :    Multiplicación\n",
        "4.  `**`:    Exponenciación\n",
        "5.  `/` :    División\n",
        "6.  `%` :    Operador módulo\n",
        "7.  `( )`:   Paréntesis\n",
        "8.  `==` :   Operador Igualdad\n",
        "9.  `=`  :   Operador asignación\n",
        "\n",
        "Algunos ejemplos a continuación."
      ]
    },
    {
      "cell_type": "code",
      "metadata": {
        "id": "p1h7dbYf6Br2"
      },
      "source": [
        "2 + 2"
      ],
      "execution_count": null,
      "outputs": []
    },
    {
      "cell_type": "code",
      "metadata": {
        "id": "En1aK-9n7D9f"
      },
      "source": [
        "50 - 5 * 6"
      ],
      "execution_count": null,
      "outputs": []
    },
    {
      "cell_type": "code",
      "metadata": {
        "id": "UILDfgRS7HyF"
      },
      "source": [
        "(34 - 2 ** 3) / 2"
      ],
      "execution_count": null,
      "outputs": []
    },
    {
      "cell_type": "code",
      "metadata": {
        "id": "CyWCenmq7Ows"
      },
      "source": [
        "4 / 2"
      ],
      "execution_count": null,
      "outputs": []
    },
    {
      "cell_type": "markdown",
      "metadata": {
        "id": "BewrlCpp7ZD0"
      },
      "source": [
        "Los números 2, 4, 50 y 34 son del tipo `int`. Sin embargo, cuando se lleva  a cabo la división $ 4 / 2 $, el resultado es un número flotante.\n",
        "La división  `/`  siempre devuelve un valor flotante (tipo `float`). \n",
        "\n",
        "Para obtener un valor entero en la división y olvidarnos de la parte racional podemos usar el operador `//`."
      ]
    },
    {
      "cell_type": "code",
      "metadata": {
        "colab": {
          "base_uri": "https://localhost:8080/"
        },
        "id": "ICSOrMjH8VrT",
        "outputId": "42b82b77-640d-4516-b6b3-1d167d9108cb"
      },
      "source": [
        "17 / 3 # La división \"clásica\" regresa un valor flotante."
      ],
      "execution_count": null,
      "outputs": [
        {
          "output_type": "execute_result",
          "data": {
            "text/plain": [
              "5.666666666666667"
            ]
          },
          "metadata": {},
          "execution_count": 3
        }
      ]
    },
    {
      "cell_type": "code",
      "metadata": {
        "colab": {
          "base_uri": "https://localhost:8080/"
        },
        "id": "ystSaOhG8XPN",
        "outputId": "88983d0e-97b5-46cd-f29a-bbef026c6b0d"
      },
      "source": [
        "17 // 3 # Con este operador se obtiene la parte entera de la división."
      ],
      "execution_count": null,
      "outputs": [
        {
          "output_type": "execute_result",
          "data": {
            "text/plain": [
              "5"
            ]
          },
          "metadata": {},
          "execution_count": 2
        }
      ]
    },
    {
      "cell_type": "code",
      "metadata": {
        "id": "SXjxXI2s8hqi"
      },
      "source": [
        "17 % 3 # Con este operador se obtiene el residuo de la división : 17 = 3 * 5 + 2."
      ],
      "execution_count": null,
      "outputs": []
    },
    {
      "cell_type": "code",
      "metadata": {
        "id": "dVPHgg488u3s"
      },
      "source": [
        "8 % 2"
      ],
      "execution_count": null,
      "outputs": []
    },
    {
      "cell_type": "code",
      "metadata": {
        "id": "Rw4Japg-8y66"
      },
      "source": [
        "7 % 2"
      ],
      "execution_count": null,
      "outputs": []
    },
    {
      "cell_type": "code",
      "metadata": {
        "id": "FLf2y2dLHhkE"
      },
      "source": [
        "minuto = 59\n",
        "minuto / 60"
      ],
      "execution_count": null,
      "outputs": []
    },
    {
      "cell_type": "code",
      "metadata": {
        "id": "BGLQ1d_9Hnky"
      },
      "source": [
        "minuto = 59\n",
        "minuto // 60"
      ],
      "execution_count": null,
      "outputs": []
    },
    {
      "cell_type": "code",
      "metadata": {
        "id": "JwyDF93087oC"
      },
      "source": [
        "5 ** 2 # 5 al cuadrado."
      ],
      "execution_count": null,
      "outputs": []
    },
    {
      "cell_type": "code",
      "metadata": {
        "id": "wHXZdLY88__7"
      },
      "source": [
        "2 * 3 ** 2 # 2 * (3 ** 2)"
      ],
      "execution_count": null,
      "outputs": []
    },
    {
      "cell_type": "code",
      "metadata": {
        "id": "KRv7Nzpq8_5v"
      },
      "source": [
        "2 ** 3 * 2 # (2 ** 3) * 2"
      ],
      "execution_count": null,
      "outputs": []
    },
    {
      "cell_type": "code",
      "metadata": {
        "id": "CghpbvQC967g"
      },
      "source": [
        "4 * 3 - 1 # (4 * 3) - 1"
      ],
      "execution_count": null,
      "outputs": []
    },
    {
      "cell_type": "markdown",
      "metadata": {
        "id": "rBIBjWbBFWY1"
      },
      "source": [
        "Obsérvense los siguientes bloques de código."
      ]
    },
    {
      "cell_type": "code",
      "metadata": {
        "id": "DQ-8S8QpFZRY"
      },
      "source": [
        "numero = 1 # La variable numero almacena el valor entero 1.\n",
        "NUMERO = 1\n",
        "print(numero == NUMERO) # El operador  == compara el valor respectivo de las variables numero y NUMERO y retorna True (verdadero), \n",
        "                        # puesto que poseen el mismo valor. "
      ],
      "execution_count": null,
      "outputs": []
    },
    {
      "cell_type": "code",
      "metadata": {
        "id": "X6RLkIkoGeND"
      },
      "source": [
        "# Ejemplo de reasignación de valores a una variable.\n",
        "numero = 1\n",
        "print(numero)\n",
        "numero = 3\n",
        "print(numero)"
      ],
      "execution_count": null,
      "outputs": []
    },
    {
      "cell_type": "code",
      "metadata": {
        "id": "Pn6Z3ykjGxsa"
      },
      "source": [
        "# Python distingue mayúsculas de minúsculas. \n",
        "numero = 1\n",
        "print(numero)\n",
        "NUMERO = 4\n",
        "print(NUMERO)"
      ],
      "execution_count": null,
      "outputs": []
    }
  ]
}